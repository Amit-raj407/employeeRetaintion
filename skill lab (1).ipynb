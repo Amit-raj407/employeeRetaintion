{
 "cells": [
  {
   "cell_type": "code",
   "execution_count": 1,
   "metadata": {
    "colab": {
     "base_uri": "https://localhost:8080/"
    },
    "executionInfo": {
     "elapsed": 2237,
     "status": "ok",
     "timestamp": 1615885918847,
     "user": {
      "displayName": "SIMRON SENAPATI",
      "photoUrl": "https://lh3.googleusercontent.com/a-/AOh14GjuZBD78LiKdg8aH7IusJHfHb_EP2fpHUCgmqfG=s64",
      "userId": "15115320396424124970"
     },
     "user_tz": -330
    },
    "id": "rMPEin5gGokz",
    "outputId": "aa791e85-a42f-4c6b-f736-4e248a8b77d2"
   },
   "outputs": [
    {
     "data": {
      "text/plain": [
       "(14999, 10)"
      ]
     },
     "execution_count": 1,
     "metadata": {},
     "output_type": "execute_result"
    }
   ],
   "source": [
    "import pandas as pd\n",
    "dataset = pd.read_csv(\"datasets_9768_13874_HR_comma_sep.csv\")\n",
    "dataset.shape"
   ]
  },
  {
   "cell_type": "code",
   "execution_count": 2,
   "metadata": {
    "colab": {
     "base_uri": "https://localhost:8080/",
     "height": 204
    },
    "executionInfo": {
     "elapsed": 766,
     "status": "ok",
     "timestamp": 1614070781557,
     "user": {
      "displayName": "SIMRON SENAPATI",
      "photoUrl": "https://lh3.googleusercontent.com/a-/AOh14GjuZBD78LiKdg8aH7IusJHfHb_EP2fpHUCgmqfG=s64",
      "userId": "15115320396424124970"
     },
     "user_tz": -330
    },
    "id": "IiA-rtHHHSbh",
    "outputId": "01a6f39e-d4d7-4a17-e816-9d073bd5276c"
   },
   "outputs": [
    {
     "data": {
      "text/html": [
       "<div>\n",
       "<style scoped>\n",
       "    .dataframe tbody tr th:only-of-type {\n",
       "        vertical-align: middle;\n",
       "    }\n",
       "\n",
       "    .dataframe tbody tr th {\n",
       "        vertical-align: top;\n",
       "    }\n",
       "\n",
       "    .dataframe thead th {\n",
       "        text-align: right;\n",
       "    }\n",
       "</style>\n",
       "<table border=\"1\" class=\"dataframe\">\n",
       "  <thead>\n",
       "    <tr style=\"text-align: right;\">\n",
       "      <th></th>\n",
       "      <th>satisfaction_level</th>\n",
       "      <th>last_evaluation</th>\n",
       "      <th>number_project</th>\n",
       "      <th>average_montly_hours</th>\n",
       "      <th>time_spend_company</th>\n",
       "      <th>Work_accident</th>\n",
       "      <th>left</th>\n",
       "      <th>promotion_last_5years</th>\n",
       "      <th>sales</th>\n",
       "      <th>salary</th>\n",
       "    </tr>\n",
       "  </thead>\n",
       "  <tbody>\n",
       "    <tr>\n",
       "      <th>0</th>\n",
       "      <td>0.38</td>\n",
       "      <td>0.53</td>\n",
       "      <td>2</td>\n",
       "      <td>157</td>\n",
       "      <td>3</td>\n",
       "      <td>0</td>\n",
       "      <td>1</td>\n",
       "      <td>0</td>\n",
       "      <td>sales</td>\n",
       "      <td>low</td>\n",
       "    </tr>\n",
       "    <tr>\n",
       "      <th>1</th>\n",
       "      <td>0.80</td>\n",
       "      <td>0.86</td>\n",
       "      <td>5</td>\n",
       "      <td>262</td>\n",
       "      <td>6</td>\n",
       "      <td>0</td>\n",
       "      <td>1</td>\n",
       "      <td>0</td>\n",
       "      <td>sales</td>\n",
       "      <td>medium</td>\n",
       "    </tr>\n",
       "    <tr>\n",
       "      <th>2</th>\n",
       "      <td>0.11</td>\n",
       "      <td>0.88</td>\n",
       "      <td>7</td>\n",
       "      <td>272</td>\n",
       "      <td>4</td>\n",
       "      <td>0</td>\n",
       "      <td>1</td>\n",
       "      <td>0</td>\n",
       "      <td>sales</td>\n",
       "      <td>medium</td>\n",
       "    </tr>\n",
       "    <tr>\n",
       "      <th>3</th>\n",
       "      <td>0.72</td>\n",
       "      <td>0.87</td>\n",
       "      <td>5</td>\n",
       "      <td>223</td>\n",
       "      <td>5</td>\n",
       "      <td>0</td>\n",
       "      <td>1</td>\n",
       "      <td>0</td>\n",
       "      <td>sales</td>\n",
       "      <td>low</td>\n",
       "    </tr>\n",
       "    <tr>\n",
       "      <th>4</th>\n",
       "      <td>0.37</td>\n",
       "      <td>0.52</td>\n",
       "      <td>2</td>\n",
       "      <td>159</td>\n",
       "      <td>3</td>\n",
       "      <td>0</td>\n",
       "      <td>1</td>\n",
       "      <td>0</td>\n",
       "      <td>sales</td>\n",
       "      <td>low</td>\n",
       "    </tr>\n",
       "  </tbody>\n",
       "</table>\n",
       "</div>"
      ],
      "text/plain": [
       "   satisfaction_level  last_evaluation  number_project  average_montly_hours  \\\n",
       "0                0.38             0.53               2                   157   \n",
       "1                0.80             0.86               5                   262   \n",
       "2                0.11             0.88               7                   272   \n",
       "3                0.72             0.87               5                   223   \n",
       "4                0.37             0.52               2                   159   \n",
       "\n",
       "   time_spend_company  Work_accident  left  promotion_last_5years  sales  \\\n",
       "0                   3              0     1                      0  sales   \n",
       "1                   6              0     1                      0  sales   \n",
       "2                   4              0     1                      0  sales   \n",
       "3                   5              0     1                      0  sales   \n",
       "4                   3              0     1                      0  sales   \n",
       "\n",
       "   salary  \n",
       "0     low  \n",
       "1  medium  \n",
       "2  medium  \n",
       "3     low  \n",
       "4     low  "
      ]
     },
     "execution_count": 2,
     "metadata": {},
     "output_type": "execute_result"
    }
   ],
   "source": [
    "dataset.head()"
   ]
  },
  {
   "cell_type": "code",
   "execution_count": 3,
   "metadata": {
    "colab": {
     "base_uri": "https://localhost:8080/"
    },
    "executionInfo": {
     "elapsed": 1328,
     "status": "ok",
     "timestamp": 1615885955789,
     "user": {
      "displayName": "SIMRON SENAPATI",
      "photoUrl": "https://lh3.googleusercontent.com/a-/AOh14GjuZBD78LiKdg8aH7IusJHfHb_EP2fpHUCgmqfG=s64",
      "userId": "15115320396424124970"
     },
     "user_tz": -330
    },
    "id": "QQD9IvIAitFM",
    "outputId": "0bc7cd28-88c3-4f48-9c1b-24fe9134dc10"
   },
   "outputs": [
    {
     "data": {
      "text/plain": [
       "(14999, 10)"
      ]
     },
     "execution_count": 3,
     "metadata": {},
     "output_type": "execute_result"
    }
   ],
   "source": [
    "sample = dataset\n",
    "sample.shape"
   ]
  },
  {
   "cell_type": "code",
   "execution_count": 4,
   "metadata": {
    "executionInfo": {
     "elapsed": 1500,
     "status": "ok",
     "timestamp": 1615885960070,
     "user": {
      "displayName": "SIMRON SENAPATI",
      "photoUrl": "https://lh3.googleusercontent.com/a-/AOh14GjuZBD78LiKdg8aH7IusJHfHb_EP2fpHUCgmqfG=s64",
      "userId": "15115320396424124970"
     },
     "user_tz": -330
    },
    "id": "R9XLmDTTjOZl"
   },
   "outputs": [],
   "source": [
    "sample = sample.rename(columns = {'sales':'department'})"
   ]
  },
  {
   "cell_type": "code",
   "execution_count": 5,
   "metadata": {
    "executionInfo": {
     "elapsed": 1924,
     "status": "ok",
     "timestamp": 1615885964967,
     "user": {
      "displayName": "SIMRON SENAPATI",
      "photoUrl": "https://lh3.googleusercontent.com/a-/AOh14GjuZBD78LiKdg8aH7IusJHfHb_EP2fpHUCgmqfG=s64",
      "userId": "15115320396424124970"
     },
     "user_tz": -330
    },
    "id": "JKriWFswjOdM"
   },
   "outputs": [],
   "source": [
    "import numpy as np\n",
    "sample['department']=np.where(sample['department'] =='IT', 'technical', sample['department'])"
   ]
  },
  {
   "cell_type": "code",
   "execution_count": 6,
   "metadata": {
    "colab": {
     "base_uri": "https://localhost:8080/"
    },
    "executionInfo": {
     "elapsed": 1236,
     "status": "ok",
     "timestamp": 1614329842530,
     "user": {
      "displayName": "SIMRON SENAPATI",
      "photoUrl": "https://lh3.googleusercontent.com/a-/AOh14GjuZBD78LiKdg8aH7IusJHfHb_EP2fpHUCgmqfG=s64",
      "userId": "15115320396424124970"
     },
     "user_tz": -330
    },
    "id": "1Fq80u2QjOgr",
    "outputId": "3405eeb7-f793-43fe-e6bc-339c1a2c489d"
   },
   "outputs": [
    {
     "data": {
      "text/plain": [
       "(14999, 10)"
      ]
     },
     "execution_count": 6,
     "metadata": {},
     "output_type": "execute_result"
    }
   ],
   "source": [
    "sample.shape"
   ]
  },
  {
   "cell_type": "code",
   "execution_count": 7,
   "metadata": {
    "colab": {
     "base_uri": "https://localhost:8080/",
     "height": 439
    },
    "executionInfo": {
     "elapsed": 1723,
     "status": "ok",
     "timestamp": 1615885972263,
     "user": {
      "displayName": "SIMRON SENAPATI",
      "photoUrl": "https://lh3.googleusercontent.com/a-/AOh14GjuZBD78LiKdg8aH7IusJHfHb_EP2fpHUCgmqfG=s64",
      "userId": "15115320396424124970"
     },
     "user_tz": -330
    },
    "id": "uSdARj5jjOkE",
    "outputId": "8419c9fb-b943-47a5-d255-261b03d87ef2"
   },
   "outputs": [
    {
     "data": {
      "text/html": [
       "<div>\n",
       "<style scoped>\n",
       "    .dataframe tbody tr th:only-of-type {\n",
       "        vertical-align: middle;\n",
       "    }\n",
       "\n",
       "    .dataframe tbody tr th {\n",
       "        vertical-align: top;\n",
       "    }\n",
       "\n",
       "    .dataframe thead th {\n",
       "        text-align: right;\n",
       "    }\n",
       "</style>\n",
       "<table border=\"1\" class=\"dataframe\">\n",
       "  <thead>\n",
       "    <tr style=\"text-align: right;\">\n",
       "      <th></th>\n",
       "      <th>satisfaction_level</th>\n",
       "      <th>last_evaluation</th>\n",
       "      <th>number_project</th>\n",
       "      <th>average_montly_hours</th>\n",
       "      <th>time_spend_company</th>\n",
       "      <th>Work_accident</th>\n",
       "      <th>left</th>\n",
       "      <th>promotion_last_5years</th>\n",
       "      <th>department_accounting</th>\n",
       "      <th>department_hr</th>\n",
       "      <th>department_management</th>\n",
       "      <th>department_marketing</th>\n",
       "      <th>department_product_mng</th>\n",
       "      <th>department_sales</th>\n",
       "      <th>department_support</th>\n",
       "      <th>department_technical</th>\n",
       "      <th>salary_low</th>\n",
       "      <th>salary_medium</th>\n",
       "    </tr>\n",
       "  </thead>\n",
       "  <tbody>\n",
       "    <tr>\n",
       "      <th>0</th>\n",
       "      <td>0.38</td>\n",
       "      <td>0.53</td>\n",
       "      <td>2</td>\n",
       "      <td>157</td>\n",
       "      <td>3</td>\n",
       "      <td>0</td>\n",
       "      <td>1</td>\n",
       "      <td>0</td>\n",
       "      <td>0</td>\n",
       "      <td>0</td>\n",
       "      <td>0</td>\n",
       "      <td>0</td>\n",
       "      <td>0</td>\n",
       "      <td>1</td>\n",
       "      <td>0</td>\n",
       "      <td>0</td>\n",
       "      <td>1</td>\n",
       "      <td>0</td>\n",
       "    </tr>\n",
       "    <tr>\n",
       "      <th>1</th>\n",
       "      <td>0.80</td>\n",
       "      <td>0.86</td>\n",
       "      <td>5</td>\n",
       "      <td>262</td>\n",
       "      <td>6</td>\n",
       "      <td>0</td>\n",
       "      <td>1</td>\n",
       "      <td>0</td>\n",
       "      <td>0</td>\n",
       "      <td>0</td>\n",
       "      <td>0</td>\n",
       "      <td>0</td>\n",
       "      <td>0</td>\n",
       "      <td>1</td>\n",
       "      <td>0</td>\n",
       "      <td>0</td>\n",
       "      <td>0</td>\n",
       "      <td>1</td>\n",
       "    </tr>\n",
       "    <tr>\n",
       "      <th>2</th>\n",
       "      <td>0.11</td>\n",
       "      <td>0.88</td>\n",
       "      <td>7</td>\n",
       "      <td>272</td>\n",
       "      <td>4</td>\n",
       "      <td>0</td>\n",
       "      <td>1</td>\n",
       "      <td>0</td>\n",
       "      <td>0</td>\n",
       "      <td>0</td>\n",
       "      <td>0</td>\n",
       "      <td>0</td>\n",
       "      <td>0</td>\n",
       "      <td>1</td>\n",
       "      <td>0</td>\n",
       "      <td>0</td>\n",
       "      <td>0</td>\n",
       "      <td>1</td>\n",
       "    </tr>\n",
       "    <tr>\n",
       "      <th>3</th>\n",
       "      <td>0.72</td>\n",
       "      <td>0.87</td>\n",
       "      <td>5</td>\n",
       "      <td>223</td>\n",
       "      <td>5</td>\n",
       "      <td>0</td>\n",
       "      <td>1</td>\n",
       "      <td>0</td>\n",
       "      <td>0</td>\n",
       "      <td>0</td>\n",
       "      <td>0</td>\n",
       "      <td>0</td>\n",
       "      <td>0</td>\n",
       "      <td>1</td>\n",
       "      <td>0</td>\n",
       "      <td>0</td>\n",
       "      <td>1</td>\n",
       "      <td>0</td>\n",
       "    </tr>\n",
       "    <tr>\n",
       "      <th>4</th>\n",
       "      <td>0.37</td>\n",
       "      <td>0.52</td>\n",
       "      <td>2</td>\n",
       "      <td>159</td>\n",
       "      <td>3</td>\n",
       "      <td>0</td>\n",
       "      <td>1</td>\n",
       "      <td>0</td>\n",
       "      <td>0</td>\n",
       "      <td>0</td>\n",
       "      <td>0</td>\n",
       "      <td>0</td>\n",
       "      <td>0</td>\n",
       "      <td>1</td>\n",
       "      <td>0</td>\n",
       "      <td>0</td>\n",
       "      <td>1</td>\n",
       "      <td>0</td>\n",
       "    </tr>\n",
       "    <tr>\n",
       "      <th>...</th>\n",
       "      <td>...</td>\n",
       "      <td>...</td>\n",
       "      <td>...</td>\n",
       "      <td>...</td>\n",
       "      <td>...</td>\n",
       "      <td>...</td>\n",
       "      <td>...</td>\n",
       "      <td>...</td>\n",
       "      <td>...</td>\n",
       "      <td>...</td>\n",
       "      <td>...</td>\n",
       "      <td>...</td>\n",
       "      <td>...</td>\n",
       "      <td>...</td>\n",
       "      <td>...</td>\n",
       "      <td>...</td>\n",
       "      <td>...</td>\n",
       "      <td>...</td>\n",
       "    </tr>\n",
       "    <tr>\n",
       "      <th>14994</th>\n",
       "      <td>0.40</td>\n",
       "      <td>0.57</td>\n",
       "      <td>2</td>\n",
       "      <td>151</td>\n",
       "      <td>3</td>\n",
       "      <td>0</td>\n",
       "      <td>1</td>\n",
       "      <td>0</td>\n",
       "      <td>0</td>\n",
       "      <td>0</td>\n",
       "      <td>0</td>\n",
       "      <td>0</td>\n",
       "      <td>0</td>\n",
       "      <td>0</td>\n",
       "      <td>1</td>\n",
       "      <td>0</td>\n",
       "      <td>1</td>\n",
       "      <td>0</td>\n",
       "    </tr>\n",
       "    <tr>\n",
       "      <th>14995</th>\n",
       "      <td>0.37</td>\n",
       "      <td>0.48</td>\n",
       "      <td>2</td>\n",
       "      <td>160</td>\n",
       "      <td>3</td>\n",
       "      <td>0</td>\n",
       "      <td>1</td>\n",
       "      <td>0</td>\n",
       "      <td>0</td>\n",
       "      <td>0</td>\n",
       "      <td>0</td>\n",
       "      <td>0</td>\n",
       "      <td>0</td>\n",
       "      <td>0</td>\n",
       "      <td>1</td>\n",
       "      <td>0</td>\n",
       "      <td>1</td>\n",
       "      <td>0</td>\n",
       "    </tr>\n",
       "    <tr>\n",
       "      <th>14996</th>\n",
       "      <td>0.37</td>\n",
       "      <td>0.53</td>\n",
       "      <td>2</td>\n",
       "      <td>143</td>\n",
       "      <td>3</td>\n",
       "      <td>0</td>\n",
       "      <td>1</td>\n",
       "      <td>0</td>\n",
       "      <td>0</td>\n",
       "      <td>0</td>\n",
       "      <td>0</td>\n",
       "      <td>0</td>\n",
       "      <td>0</td>\n",
       "      <td>0</td>\n",
       "      <td>1</td>\n",
       "      <td>0</td>\n",
       "      <td>1</td>\n",
       "      <td>0</td>\n",
       "    </tr>\n",
       "    <tr>\n",
       "      <th>14997</th>\n",
       "      <td>0.11</td>\n",
       "      <td>0.96</td>\n",
       "      <td>6</td>\n",
       "      <td>280</td>\n",
       "      <td>4</td>\n",
       "      <td>0</td>\n",
       "      <td>1</td>\n",
       "      <td>0</td>\n",
       "      <td>0</td>\n",
       "      <td>0</td>\n",
       "      <td>0</td>\n",
       "      <td>0</td>\n",
       "      <td>0</td>\n",
       "      <td>0</td>\n",
       "      <td>1</td>\n",
       "      <td>0</td>\n",
       "      <td>1</td>\n",
       "      <td>0</td>\n",
       "    </tr>\n",
       "    <tr>\n",
       "      <th>14998</th>\n",
       "      <td>0.37</td>\n",
       "      <td>0.52</td>\n",
       "      <td>2</td>\n",
       "      <td>158</td>\n",
       "      <td>3</td>\n",
       "      <td>0</td>\n",
       "      <td>1</td>\n",
       "      <td>0</td>\n",
       "      <td>0</td>\n",
       "      <td>0</td>\n",
       "      <td>0</td>\n",
       "      <td>0</td>\n",
       "      <td>0</td>\n",
       "      <td>0</td>\n",
       "      <td>1</td>\n",
       "      <td>0</td>\n",
       "      <td>1</td>\n",
       "      <td>0</td>\n",
       "    </tr>\n",
       "  </tbody>\n",
       "</table>\n",
       "<p>14999 rows × 18 columns</p>\n",
       "</div>"
      ],
      "text/plain": [
       "       satisfaction_level  last_evaluation  number_project  \\\n",
       "0                    0.38             0.53               2   \n",
       "1                    0.80             0.86               5   \n",
       "2                    0.11             0.88               7   \n",
       "3                    0.72             0.87               5   \n",
       "4                    0.37             0.52               2   \n",
       "...                   ...              ...             ...   \n",
       "14994                0.40             0.57               2   \n",
       "14995                0.37             0.48               2   \n",
       "14996                0.37             0.53               2   \n",
       "14997                0.11             0.96               6   \n",
       "14998                0.37             0.52               2   \n",
       "\n",
       "       average_montly_hours  time_spend_company  Work_accident  left  \\\n",
       "0                       157                   3              0     1   \n",
       "1                       262                   6              0     1   \n",
       "2                       272                   4              0     1   \n",
       "3                       223                   5              0     1   \n",
       "4                       159                   3              0     1   \n",
       "...                     ...                 ...            ...   ...   \n",
       "14994                   151                   3              0     1   \n",
       "14995                   160                   3              0     1   \n",
       "14996                   143                   3              0     1   \n",
       "14997                   280                   4              0     1   \n",
       "14998                   158                   3              0     1   \n",
       "\n",
       "       promotion_last_5years  department_accounting  department_hr  \\\n",
       "0                          0                      0              0   \n",
       "1                          0                      0              0   \n",
       "2                          0                      0              0   \n",
       "3                          0                      0              0   \n",
       "4                          0                      0              0   \n",
       "...                      ...                    ...            ...   \n",
       "14994                      0                      0              0   \n",
       "14995                      0                      0              0   \n",
       "14996                      0                      0              0   \n",
       "14997                      0                      0              0   \n",
       "14998                      0                      0              0   \n",
       "\n",
       "       department_management  department_marketing  department_product_mng  \\\n",
       "0                          0                     0                       0   \n",
       "1                          0                     0                       0   \n",
       "2                          0                     0                       0   \n",
       "3                          0                     0                       0   \n",
       "4                          0                     0                       0   \n",
       "...                      ...                   ...                     ...   \n",
       "14994                      0                     0                       0   \n",
       "14995                      0                     0                       0   \n",
       "14996                      0                     0                       0   \n",
       "14997                      0                     0                       0   \n",
       "14998                      0                     0                       0   \n",
       "\n",
       "       department_sales  department_support  department_technical  salary_low  \\\n",
       "0                     1                   0                     0           1   \n",
       "1                     1                   0                     0           0   \n",
       "2                     1                   0                     0           0   \n",
       "3                     1                   0                     0           1   \n",
       "4                     1                   0                     0           1   \n",
       "...                 ...                 ...                   ...         ...   \n",
       "14994                 0                   1                     0           1   \n",
       "14995                 0                   1                     0           1   \n",
       "14996                 0                   1                     0           1   \n",
       "14997                 0                   1                     0           1   \n",
       "14998                 0                   1                     0           1   \n",
       "\n",
       "       salary_medium  \n",
       "0                  0  \n",
       "1                  1  \n",
       "2                  1  \n",
       "3                  0  \n",
       "4                  0  \n",
       "...              ...  \n",
       "14994              0  \n",
       "14995              0  \n",
       "14996              0  \n",
       "14997              0  \n",
       "14998              0  \n",
       "\n",
       "[14999 rows x 18 columns]"
      ]
     },
     "execution_count": 7,
     "metadata": {},
     "output_type": "execute_result"
    }
   ],
   "source": [
    "sample = pd.get_dummies(sample,drop_first=True)\n",
    "sample"
   ]
  },
  {
   "cell_type": "code",
   "execution_count": 8,
   "metadata": {
    "executionInfo": {
     "elapsed": 1773,
     "status": "ok",
     "timestamp": 1615886235710,
     "user": {
      "displayName": "SIMRON SENAPATI",
      "photoUrl": "https://lh3.googleusercontent.com/a-/AOh14GjuZBD78LiKdg8aH7IusJHfHb_EP2fpHUCgmqfG=s64",
      "userId": "15115320396424124970"
     },
     "user_tz": -330
    },
    "id": "yo60dMDKjOoU"
   },
   "outputs": [],
   "source": [
    "sample_features = sample.columns.values.tolist()\n",
    "y=['left']\n",
    "X=[i for i in sample_features if i not in y]"
   ]
  },
  {
   "cell_type": "code",
   "execution_count": 9,
   "metadata": {
    "colab": {
     "base_uri": "https://localhost:8080/"
    },
    "executionInfo": {
     "elapsed": 5822,
     "status": "ok",
     "timestamp": 1615886024090,
     "user": {
      "displayName": "SIMRON SENAPATI",
      "photoUrl": "https://lh3.googleusercontent.com/a-/AOh14GjuZBD78LiKdg8aH7IusJHfHb_EP2fpHUCgmqfG=s64",
      "userId": "15115320396424124970"
     },
     "user_tz": -330
    },
    "id": "SR9F99KjzSWl",
    "outputId": "a8bf3e26-9884-4d09-98a5-88d962edab97"
   },
   "outputs": [
    {
     "name": "stderr",
     "output_type": "stream",
     "text": [
      "C:\\Users\\sibup\\anaconda3\\lib\\site-packages\\sklearn\\utils\\validation.py:67: FutureWarning: Pass n_features_to_select=10 as keyword args. From version 0.25 passing these as positional arguments will result in an error\n",
      "  warnings.warn(\"Pass {} as keyword args. From version 0.25 \"\n"
     ]
    },
    {
     "name": "stdout",
     "output_type": "stream",
     "text": [
      "[ True False False False False  True  True  True  True False  True False\n",
      "  True  True False  True  True]\n",
      "[1 5 6 8 4 1 1 1 1 7 1 3 1 1 2 1 1]\n"
     ]
    }
   ],
   "source": [
    "from sklearn.feature_selection import RFE\n",
    "from sklearn.linear_model import LogisticRegression\n",
    "model = LogisticRegression(max_iter = 600)\n",
    "rfe = RFE(model, 10)\n",
    "rfe = rfe.fit(sample[X], sample[y].values.ravel())\n",
    "print(rfe.support_)\n",
    "print(rfe.ranking_)"
   ]
  },
  {
   "cell_type": "code",
   "execution_count": 10,
   "metadata": {
    "colab": {
     "base_uri": "https://localhost:8080/"
    },
    "executionInfo": {
     "elapsed": 1697,
     "status": "ok",
     "timestamp": 1615886473077,
     "user": {
      "displayName": "SIMRON SENAPATI",
      "photoUrl": "https://lh3.googleusercontent.com/a-/AOh14GjuZBD78LiKdg8aH7IusJHfHb_EP2fpHUCgmqfG=s64",
      "userId": "15115320396424124970"
     },
     "user_tz": -330
    },
    "id": "lbh2eT5DUcCS",
    "outputId": "ff708c66-9dc4-4e93-e487-f0456a74939e"
   },
   "outputs": [
    {
     "data": {
      "text/plain": [
       "Index(['satisfaction_level', 'last_evaluation', 'number_project',\n",
       "       'average_montly_hours', 'time_spend_company', 'Work_accident',\n",
       "       'promotion_last_5years', 'department_accounting', 'department_hr',\n",
       "       'department_management', 'department_marketing',\n",
       "       'department_product_mng', 'department_sales', 'department_support',\n",
       "       'department_technical', 'salary_low', 'salary_medium'],\n",
       "      dtype='object')"
      ]
     },
     "execution_count": 10,
     "metadata": {},
     "output_type": "execute_result"
    }
   ],
   "source": [
    "sample[X].columns"
   ]
  },
  {
   "cell_type": "code",
   "execution_count": 11,
   "metadata": {
    "colab": {
     "base_uri": "https://localhost:8080/"
    },
    "executionInfo": {
     "elapsed": 1630,
     "status": "ok",
     "timestamp": 1615886538438,
     "user": {
      "displayName": "SIMRON SENAPATI",
      "photoUrl": "https://lh3.googleusercontent.com/a-/AOh14GjuZBD78LiKdg8aH7IusJHfHb_EP2fpHUCgmqfG=s64",
      "userId": "15115320396424124970"
     },
     "user_tz": -330
    },
    "id": "K77KR89fV00j",
    "outputId": "a274f845-73a9-4981-bc81-323f165f3111"
   },
   "outputs": [
    {
     "data": {
      "text/plain": [
       "array([1, 5, 6, 8, 4, 1, 1, 1, 1, 7, 1, 3, 1, 1, 2, 1, 1])"
      ]
     },
     "execution_count": 11,
     "metadata": {},
     "output_type": "execute_result"
    }
   ],
   "source": [
    "rfe.ranking_"
   ]
  },
  {
   "cell_type": "code",
   "execution_count": 12,
   "metadata": {
    "executionInfo": {
     "elapsed": 1723,
     "status": "ok",
     "timestamp": 1615886568711,
     "user": {
      "displayName": "SIMRON SENAPATI",
      "photoUrl": "https://lh3.googleusercontent.com/a-/AOh14GjuZBD78LiKdg8aH7IusJHfHb_EP2fpHUCgmqfG=s64",
      "userId": "15115320396424124970"
     },
     "user_tz": -330
    },
    "id": "egI3AUx8V8_I"
   },
   "outputs": [],
   "source": [
    "ranking = list(rfe.ranking_)"
   ]
  },
  {
   "cell_type": "code",
   "execution_count": 13,
   "metadata": {
    "executionInfo": {
     "elapsed": 2599,
     "status": "ok",
     "timestamp": 1615886780516,
     "user": {
      "displayName": "SIMRON SENAPATI",
      "photoUrl": "https://lh3.googleusercontent.com/a-/AOh14GjuZBD78LiKdg8aH7IusJHfHb_EP2fpHUCgmqfG=s64",
      "userId": "15115320396424124970"
     },
     "user_tz": -330
    },
    "id": "LXQTO3DvWM6S"
   },
   "outputs": [],
   "source": [
    "colmn = {\n",
    "    'features' : sample[X].columns,\n",
    "    'ranking': ranking\n",
    "}\n",
    "column_ranking = pd.DataFrame(colmn)"
   ]
  },
  {
   "cell_type": "code",
   "execution_count": 14,
   "metadata": {
    "colab": {
     "base_uri": "https://localhost:8080/",
     "height": 576
    },
    "executionInfo": {
     "elapsed": 1826,
     "status": "ok",
     "timestamp": 1615886789803,
     "user": {
      "displayName": "SIMRON SENAPATI",
      "photoUrl": "https://lh3.googleusercontent.com/a-/AOh14GjuZBD78LiKdg8aH7IusJHfHb_EP2fpHUCgmqfG=s64",
      "userId": "15115320396424124970"
     },
     "user_tz": -330
    },
    "id": "I6BiBftMW3pd",
    "outputId": "64300fc9-c695-4234-c2a3-84f2e2f043d4"
   },
   "outputs": [
    {
     "data": {
      "text/html": [
       "<div>\n",
       "<style scoped>\n",
       "    .dataframe tbody tr th:only-of-type {\n",
       "        vertical-align: middle;\n",
       "    }\n",
       "\n",
       "    .dataframe tbody tr th {\n",
       "        vertical-align: top;\n",
       "    }\n",
       "\n",
       "    .dataframe thead th {\n",
       "        text-align: right;\n",
       "    }\n",
       "</style>\n",
       "<table border=\"1\" class=\"dataframe\">\n",
       "  <thead>\n",
       "    <tr style=\"text-align: right;\">\n",
       "      <th></th>\n",
       "      <th>features</th>\n",
       "      <th>ranking</th>\n",
       "    </tr>\n",
       "  </thead>\n",
       "  <tbody>\n",
       "    <tr>\n",
       "      <th>0</th>\n",
       "      <td>satisfaction_level</td>\n",
       "      <td>1</td>\n",
       "    </tr>\n",
       "    <tr>\n",
       "      <th>1</th>\n",
       "      <td>last_evaluation</td>\n",
       "      <td>5</td>\n",
       "    </tr>\n",
       "    <tr>\n",
       "      <th>2</th>\n",
       "      <td>number_project</td>\n",
       "      <td>6</td>\n",
       "    </tr>\n",
       "    <tr>\n",
       "      <th>3</th>\n",
       "      <td>average_montly_hours</td>\n",
       "      <td>8</td>\n",
       "    </tr>\n",
       "    <tr>\n",
       "      <th>4</th>\n",
       "      <td>time_spend_company</td>\n",
       "      <td>4</td>\n",
       "    </tr>\n",
       "    <tr>\n",
       "      <th>5</th>\n",
       "      <td>Work_accident</td>\n",
       "      <td>1</td>\n",
       "    </tr>\n",
       "    <tr>\n",
       "      <th>6</th>\n",
       "      <td>promotion_last_5years</td>\n",
       "      <td>1</td>\n",
       "    </tr>\n",
       "    <tr>\n",
       "      <th>7</th>\n",
       "      <td>department_accounting</td>\n",
       "      <td>1</td>\n",
       "    </tr>\n",
       "    <tr>\n",
       "      <th>8</th>\n",
       "      <td>department_hr</td>\n",
       "      <td>1</td>\n",
       "    </tr>\n",
       "    <tr>\n",
       "      <th>9</th>\n",
       "      <td>department_management</td>\n",
       "      <td>7</td>\n",
       "    </tr>\n",
       "    <tr>\n",
       "      <th>10</th>\n",
       "      <td>department_marketing</td>\n",
       "      <td>1</td>\n",
       "    </tr>\n",
       "    <tr>\n",
       "      <th>11</th>\n",
       "      <td>department_product_mng</td>\n",
       "      <td>3</td>\n",
       "    </tr>\n",
       "    <tr>\n",
       "      <th>12</th>\n",
       "      <td>department_sales</td>\n",
       "      <td>1</td>\n",
       "    </tr>\n",
       "    <tr>\n",
       "      <th>13</th>\n",
       "      <td>department_support</td>\n",
       "      <td>1</td>\n",
       "    </tr>\n",
       "    <tr>\n",
       "      <th>14</th>\n",
       "      <td>department_technical</td>\n",
       "      <td>2</td>\n",
       "    </tr>\n",
       "    <tr>\n",
       "      <th>15</th>\n",
       "      <td>salary_low</td>\n",
       "      <td>1</td>\n",
       "    </tr>\n",
       "    <tr>\n",
       "      <th>16</th>\n",
       "      <td>salary_medium</td>\n",
       "      <td>1</td>\n",
       "    </tr>\n",
       "  </tbody>\n",
       "</table>\n",
       "</div>"
      ],
      "text/plain": [
       "                  features  ranking\n",
       "0       satisfaction_level        1\n",
       "1          last_evaluation        5\n",
       "2           number_project        6\n",
       "3     average_montly_hours        8\n",
       "4       time_spend_company        4\n",
       "5            Work_accident        1\n",
       "6    promotion_last_5years        1\n",
       "7    department_accounting        1\n",
       "8            department_hr        1\n",
       "9    department_management        7\n",
       "10    department_marketing        1\n",
       "11  department_product_mng        3\n",
       "12        department_sales        1\n",
       "13      department_support        1\n",
       "14    department_technical        2\n",
       "15              salary_low        1\n",
       "16           salary_medium        1"
      ]
     },
     "execution_count": 14,
     "metadata": {},
     "output_type": "execute_result"
    }
   ],
   "source": [
    "column_ranking"
   ]
  },
  {
   "cell_type": "code",
   "execution_count": 15,
   "metadata": {
    "executionInfo": {
     "elapsed": 1521,
     "status": "ok",
     "timestamp": 1615887348477,
     "user": {
      "displayName": "SIMRON SENAPATI",
      "photoUrl": "https://lh3.googleusercontent.com/a-/AOh14GjuZBD78LiKdg8aH7IusJHfHb_EP2fpHUCgmqfG=s64",
      "userId": "15115320396424124970"
     },
     "user_tz": -330
    },
    "id": "d1Wqq5S5W6Tb"
   },
   "outputs": [],
   "source": [
    "cols = []\n",
    "for i in range(0,17):\n",
    "    if column_ranking.iloc[i]['ranking'] == 1:\n",
    "        cols.append(column_ranking.iloc[i]['features'])"
   ]
  },
  {
   "cell_type": "code",
   "execution_count": 16,
   "metadata": {
    "colab": {
     "base_uri": "https://localhost:8080/"
    },
    "executionInfo": {
     "elapsed": 1434,
     "status": "ok",
     "timestamp": 1615887350917,
     "user": {
      "displayName": "SIMRON SENAPATI",
      "photoUrl": "https://lh3.googleusercontent.com/a-/AOh14GjuZBD78LiKdg8aH7IusJHfHb_EP2fpHUCgmqfG=s64",
      "userId": "15115320396424124970"
     },
     "user_tz": -330
    },
    "id": "np4Ziy3QX4Xn",
    "outputId": "7c1813ac-d600-4177-d275-21bf552a1122"
   },
   "outputs": [
    {
     "data": {
      "text/plain": [
       "['satisfaction_level',\n",
       " 'Work_accident',\n",
       " 'promotion_last_5years',\n",
       " 'department_accounting',\n",
       " 'department_hr',\n",
       " 'department_marketing',\n",
       " 'department_sales',\n",
       " 'department_support',\n",
       " 'salary_low',\n",
       " 'salary_medium']"
      ]
     },
     "execution_count": 16,
     "metadata": {},
     "output_type": "execute_result"
    }
   ],
   "source": [
    "cols"
   ]
  },
  {
   "cell_type": "code",
   "execution_count": 17,
   "metadata": {
    "executionInfo": {
     "elapsed": 1501,
     "status": "ok",
     "timestamp": 1615887429474,
     "user": {
      "displayName": "SIMRON SENAPATI",
      "photoUrl": "https://lh3.googleusercontent.com/a-/AOh14GjuZBD78LiKdg8aH7IusJHfHb_EP2fpHUCgmqfG=s64",
      "userId": "15115320396424124970"
     },
     "user_tz": -330
    },
    "id": "r0MnItfgZLj5"
   },
   "outputs": [],
   "source": [
    "X=sample[cols]\n",
    "y=sample['left']"
   ]
  },
  {
   "cell_type": "code",
   "execution_count": 18,
   "metadata": {
    "colab": {
     "base_uri": "https://localhost:8080/"
    },
    "executionInfo": {
     "elapsed": 1624,
     "status": "ok",
     "timestamp": 1615888041318,
     "user": {
      "displayName": "SIMRON SENAPATI",
      "photoUrl": "https://lh3.googleusercontent.com/a-/AOh14GjuZBD78LiKdg8aH7IusJHfHb_EP2fpHUCgmqfG=s64",
      "userId": "15115320396424124970"
     },
     "user_tz": -330
    },
    "id": "wiCikGMoYXpT",
    "outputId": "c253acdb-47f1-46ff-c5f6-e9c1133f42ed"
   },
   "outputs": [
    {
     "data": {
      "text/plain": [
       "LogisticRegression()"
      ]
     },
     "execution_count": 18,
     "metadata": {},
     "output_type": "execute_result"
    }
   ],
   "source": [
    "from sklearn.model_selection import train_test_split\n",
    "X_train, X_test, y_train, y_test = train_test_split(X, y, test_size=0.3, random_state=0)\n",
    "from sklearn.linear_model import LogisticRegression\n",
    "from sklearn import metrics\n",
    "logreg = LogisticRegression()\n",
    "logreg.fit(X_train, y_train)"
   ]
  },
  {
   "cell_type": "code",
   "execution_count": 19,
   "metadata": {
    "colab": {
     "base_uri": "https://localhost:8080/"
    },
    "executionInfo": {
     "elapsed": 1648,
     "status": "ok",
     "timestamp": 1615888088004,
     "user": {
      "displayName": "SIMRON SENAPATI",
      "photoUrl": "https://lh3.googleusercontent.com/a-/AOh14GjuZBD78LiKdg8aH7IusJHfHb_EP2fpHUCgmqfG=s64",
      "userId": "15115320396424124970"
     },
     "user_tz": -330
    },
    "id": "m9bZtDX0ZYPy",
    "outputId": "71d6666e-c967-4f38-8235-f1513fcc1631"
   },
   "outputs": [
    {
     "name": "stdout",
     "output_type": "stream",
     "text": [
      "Logistic regression accuracy: 0.792\n"
     ]
    }
   ],
   "source": [
    "from sklearn.metrics import accuracy_score\n",
    "print('Logistic regression accuracy: {:.3f}'.format(accuracy_score(y_test, logreg.predict(X_test))))"
   ]
  },
  {
   "cell_type": "code",
   "execution_count": 20,
   "metadata": {
    "colab": {
     "base_uri": "https://localhost:8080/"
    },
    "executionInfo": {
     "elapsed": 1819,
     "status": "ok",
     "timestamp": 1615888609537,
     "user": {
      "displayName": "SIMRON SENAPATI",
      "photoUrl": "https://lh3.googleusercontent.com/a-/AOh14GjuZBD78LiKdg8aH7IusJHfHb_EP2fpHUCgmqfG=s64",
      "userId": "15115320396424124970"
     },
     "user_tz": -330
    },
    "id": "EZkPaaImb3RD",
    "outputId": "381319cd-7600-44d4-eb17-e1765cae5697"
   },
   "outputs": [
    {
     "data": {
      "text/plain": [
       "RandomForestClassifier()"
      ]
     },
     "execution_count": 20,
     "metadata": {},
     "output_type": "execute_result"
    }
   ],
   "source": [
    "from sklearn.ensemble import RandomForestClassifier\n",
    "rf = RandomForestClassifier()\n",
    "rf.fit(X_train, y_train)"
   ]
  },
  {
   "cell_type": "code",
   "execution_count": 21,
   "metadata": {
    "colab": {
     "base_uri": "https://localhost:8080/"
    },
    "executionInfo": {
     "elapsed": 1453,
     "status": "ok",
     "timestamp": 1615888697470,
     "user": {
      "displayName": "SIMRON SENAPATI",
      "photoUrl": "https://lh3.googleusercontent.com/a-/AOh14GjuZBD78LiKdg8aH7IusJHfHb_EP2fpHUCgmqfG=s64",
      "userId": "15115320396424124970"
     },
     "user_tz": -330
    },
    "id": "So-PUT-7di-B",
    "outputId": "6b7bf562-a8d9-4199-d54f-24035046c8a2"
   },
   "outputs": [
    {
     "name": "stdout",
     "output_type": "stream",
     "text": [
      "Random Forest Accuracy: 0.898\n"
     ]
    }
   ],
   "source": [
    "print('Random Forest Accuracy: {:.3f}'.format(accuracy_score(y_test, rf.predict(X_test))))"
   ]
  },
  {
   "cell_type": "code",
   "execution_count": 22,
   "metadata": {
    "colab": {
     "base_uri": "https://localhost:8080/"
    },
    "executionInfo": {
     "elapsed": 1482,
     "status": "ok",
     "timestamp": 1615888722348,
     "user": {
      "displayName": "SIMRON SENAPATI",
      "photoUrl": "https://lh3.googleusercontent.com/a-/AOh14GjuZBD78LiKdg8aH7IusJHfHb_EP2fpHUCgmqfG=s64",
      "userId": "15115320396424124970"
     },
     "user_tz": -330
    },
    "id": "R6StLrsheMIW",
    "outputId": "62da52e3-dd2e-417e-8a0c-6ea55e8a68cc"
   },
   "outputs": [
    {
     "name": "stdout",
     "output_type": "stream",
     "text": [
      "              precision    recall  f1-score   support\n",
      "\n",
      "           0       0.92      0.95      0.94      3462\n",
      "           1       0.82      0.72      0.77      1038\n",
      "\n",
      "    accuracy                           0.90      4500\n",
      "   macro avg       0.87      0.84      0.85      4500\n",
      "weighted avg       0.90      0.90      0.90      4500\n",
      "\n"
     ]
    }
   ],
   "source": [
    "from sklearn.metrics import classification_report\n",
    "print(classification_report(y_test, rf.predict(X_test)))"
   ]
  },
  {
   "cell_type": "code",
   "execution_count": 23,
   "metadata": {
    "colab": {
     "base_uri": "https://localhost:8080/",
     "height": 312
    },
    "executionInfo": {
     "elapsed": 1538,
     "status": "ok",
     "timestamp": 1615888812588,
     "user": {
      "displayName": "SIMRON SENAPATI",
      "photoUrl": "https://lh3.googleusercontent.com/a-/AOh14GjuZBD78LiKdg8aH7IusJHfHb_EP2fpHUCgmqfG=s64",
      "userId": "15115320396424124970"
     },
     "user_tz": -330
    },
    "id": "xeZxOUAieZpR",
    "outputId": "48e2d7e5-a420-4c58-d4ba-c7ed718e1e84"
   },
   "outputs": [
    {
     "name": "stderr",
     "output_type": "stream",
     "text": [
      "C:\\Users\\sibup\\anaconda3\\lib\\site-packages\\sklearn\\utils\\validation.py:67: FutureWarning: Pass labels=[1, 0] as keyword args. From version 0.25 passing these as positional arguments will result in an error\n",
      "  warnings.warn(\"Pass {} as keyword args. From version 0.25 \"\n"
     ]
    },
    {
     "data": {
      "text/plain": [
       "Text(0.5, 1.0, 'Random Forest')"
      ]
     },
     "execution_count": 23,
     "metadata": {},
     "output_type": "execute_result"
    },
    {
     "data": {
      "image/png": "[encoded data removed]",
      "text/plain": [
       "<Figure size 432x288 with 2 Axes>"
      ]
     },
     "metadata": {
      "needs_background": "light"
     },
     "output_type": "display_data"
    }
   ],
   "source": [
    "import matplotlib.pyplot as plt\n",
    "y_pred = rf.predict(X_test)\n",
    "from sklearn.metrics import confusion_matrix\n",
    "import seaborn as sns\n",
    "forest_cm = metrics.confusion_matrix(y_pred, y_test, [1,0])\n",
    "sns.heatmap(forest_cm, annot=True, fmt='.2f',xticklabels = [\"Left\", \"Stayed\"] , yticklabels = [\"Left\", \"Stayed\"] )\n",
    "plt.ylabel('True class')\n",
    "plt.xlabel('Predicted class')\n",
    "plt.title('Random Forest')"
   ]
  },
  {
   "cell_type": "code",
   "execution_count": 24,
   "metadata": {
    "colab": {
     "base_uri": "https://localhost:8080/"
    },
    "executionInfo": {
     "elapsed": 1101,
     "status": "ok",
     "timestamp": 1615888842988,
     "user": {
      "displayName": "SIMRON SENAPATI",
      "photoUrl": "https://lh3.googleusercontent.com/a-/AOh14GjuZBD78LiKdg8aH7IusJHfHb_EP2fpHUCgmqfG=s64",
      "userId": "15115320396424124970"
     },
     "user_tz": -330
    },
    "id": "a4k2q_NkeoOK",
    "outputId": "c9178bec-cf80-4260-a424-28997e8f65b5"
   },
   "outputs": [
    {
     "name": "stdout",
     "output_type": "stream",
     "text": [
      "              precision    recall  f1-score   support\n",
      "\n",
      "           0       0.82      0.93      0.87      3462\n",
      "           1       0.59      0.32      0.41      1038\n",
      "\n",
      "    accuracy                           0.79      4500\n",
      "   macro avg       0.71      0.63      0.64      4500\n",
      "weighted avg       0.77      0.79      0.77      4500\n",
      "\n"
     ]
    }
   ],
   "source": [
    "print(classification_report(y_test, logreg.predict(X_test)))"
   ]
  },
  {
   "cell_type": "code",
   "execution_count": 25,
   "metadata": {
    "colab": {
     "base_uri": "https://localhost:8080/",
     "height": 312
    },
    "executionInfo": {
     "elapsed": 1685,
     "status": "ok",
     "timestamp": 1615888872837,
     "user": {
      "displayName": "SIMRON SENAPATI",
      "photoUrl": "https://lh3.googleusercontent.com/a-/AOh14GjuZBD78LiKdg8aH7IusJHfHb_EP2fpHUCgmqfG=s64",
      "userId": "15115320396424124970"
     },
     "user_tz": -330
    },
    "id": "h4dmY4c0evvf",
    "outputId": "43d13bb6-c611-4f91-b290-496f5696e8c8"
   },
   "outputs": [
    {
     "name": "stderr",
     "output_type": "stream",
     "text": [
      "C:\\Users\\sibup\\anaconda3\\lib\\site-packages\\sklearn\\utils\\validation.py:67: FutureWarning: Pass labels=[1, 0] as keyword args. From version 0.25 passing these as positional arguments will result in an error\n",
      "  warnings.warn(\"Pass {} as keyword args. From version 0.25 \"\n"
     ]
    },
    {
     "data": {
      "text/plain": [
       "Text(0.5, 1.0, 'Logistic Regression')"
      ]
     },
     "execution_count": 25,
     "metadata": {},
     "output_type": "execute_result"
    },
    {
     "data": {
      "image/png": "[encoded data removed]",
      "text/plain": [
       "<Figure size 432x288 with 2 Axes>"
      ]
     },
     "metadata": {
      "needs_background": "light"
     },
     "output_type": "display_data"
    }
   ],
   "source": [
    "logreg_y_pred = logreg.predict(X_test)\n",
    "logreg_cm = metrics.confusion_matrix(logreg_y_pred, y_test, [1,0])\n",
    "sns.heatmap(logreg_cm, annot=True, fmt='.2f',xticklabels = [\"Left\", \"Stayed\"] , yticklabels = [\"Left\", \"Stayed\"] )\n",
    "plt.ylabel('True class')\n",
    "plt.xlabel('Predicted class')\n",
    "plt.title('Logistic Regression')"
   ]
  },
  {
   "cell_type": "code",
   "execution_count": 26,
   "metadata": {
    "colab": {
     "base_uri": "https://localhost:8080/",
     "height": 295
    },
    "executionInfo": {
     "elapsed": 1831,
     "status": "ok",
     "timestamp": 1615888896436,
     "user": {
      "displayName": "SIMRON SENAPATI",
      "photoUrl": "https://lh3.googleusercontent.com/a-/AOh14GjuZBD78LiKdg8aH7IusJHfHb_EP2fpHUCgmqfG=s64",
      "userId": "15115320396424124970"
     },
     "user_tz": -330
    },
    "id": "Kk5_-1yde24s",
    "outputId": "98388fb3-6f65-464b-b032-8445d25b2f12"
   },
   "outputs": [
    {
     "data": {
      "image/png": "[encoded data removed]",
      "text/plain": [
       "<Figure size 432x288 with 1 Axes>"
      ]
     },
     "metadata": {
      "needs_background": "light"
     },
     "output_type": "display_data"
    }
   ],
   "source": [
    "from sklearn.metrics import roc_auc_score\n",
    "from sklearn.metrics import roc_curve\n",
    "logit_roc_auc = roc_auc_score(y_test, logreg.predict(X_test))\n",
    "fpr, tpr, thresholds = roc_curve(y_test, logreg.predict_proba(X_test)[:,1])\n",
    "rf_roc_auc = roc_auc_score(y_test, rf.predict(X_test))\n",
    "rf_fpr, rf_tpr, rf_thresholds = roc_curve(y_test, rf.predict_proba(X_test)[:,1])\n",
    "plt.figure()\n",
    "plt.plot(fpr, tpr, label='Logistic Regression (area = %0.2f)' % logit_roc_auc)\n",
    "plt.plot(rf_fpr, rf_tpr, label='Random Forest (area = %0.2f)' % rf_roc_auc)\n",
    "plt.plot([0, 1], [0, 1],'r--')\n",
    "plt.xlim([0.0, 1.0])\n",
    "plt.ylim([0.0, 1.05])\n",
    "plt.xlabel('False Positive Rate')\n",
    "plt.ylabel('True Positive Rate')\n",
    "plt.title('Receiver operating characteristic')\n",
    "plt.legend(loc=\"lower right\")\n",
    "plt.show()"
   ]
  },
  {
   "cell_type": "code",
   "execution_count": 27,
   "metadata": {
    "colab": {
     "base_uri": "https://localhost:8080/"
    },
    "executionInfo": {
     "elapsed": 1246,
     "status": "ok",
     "timestamp": 1615889358351,
     "user": {
      "displayName": "SIMRON SENAPATI",
      "photoUrl": "https://lh3.googleusercontent.com/a-/AOh14GjuZBD78LiKdg8aH7IusJHfHb_EP2fpHUCgmqfG=s64",
      "userId": "15115320396424124970"
     },
     "user_tz": -330
    },
    "id": "_Vq65QlsfyGx",
    "outputId": "863b0759-e022-432d-e978-2f18a811e561"
   },
   "outputs": [
    {
     "name": "stdout",
     "output_type": "stream",
     "text": [
      "department_marketing-0.38%\n",
      "department_accounting-0.41%\n",
      "promotion_last_5years-0.54%\n",
      "department_hr-0.54%\n",
      "department_support-0.64%\n",
      "department_sales-0.70%\n",
      "salary_medium-0.94%\n",
      "salary_low-2.24%\n",
      "Work_accident-2.95%\n",
      "satisfaction_level-90.66%\n"
     ]
    }
   ],
   "source": [
    "feature_labels = np.array(cols)\n",
    "importance = rf.feature_importances_\n",
    "feature_indexes_by_importance = importance.argsort()\n",
    "for index in feature_indexes_by_importance:\n",
    "    print('{}-{:.2f}%'.format(feature_labels[index], (importance[index] *100.0)))"
   ]
  },
  {
   "cell_type": "code",
   "execution_count": 28,
   "metadata": {},
   "outputs": [
    {
     "data": {
      "text/html": [
       "<div>\n",
       "<style scoped>\n",
       "    .dataframe tbody tr th:only-of-type {\n",
       "        vertical-align: middle;\n",
       "    }\n",
       "\n",
       "    .dataframe tbody tr th {\n",
       "        vertical-align: top;\n",
       "    }\n",
       "\n",
       "    .dataframe thead th {\n",
       "        text-align: right;\n",
       "    }\n",
       "</style>\n",
       "<table border=\"1\" class=\"dataframe\">\n",
       "  <thead>\n",
       "    <tr style=\"text-align: right;\">\n",
       "      <th></th>\n",
       "      <th>satisfaction_level</th>\n",
       "      <th>Work_accident</th>\n",
       "      <th>promotion_last_5years</th>\n",
       "      <th>department_accounting</th>\n",
       "      <th>department_hr</th>\n",
       "      <th>department_marketing</th>\n",
       "      <th>department_sales</th>\n",
       "      <th>department_support</th>\n",
       "      <th>salary_low</th>\n",
       "      <th>salary_medium</th>\n",
       "    </tr>\n",
       "  </thead>\n",
       "  <tbody>\n",
       "    <tr>\n",
       "      <th>0</th>\n",
       "      <td>0.38</td>\n",
       "      <td>0</td>\n",
       "      <td>0</td>\n",
       "      <td>0</td>\n",
       "      <td>0</td>\n",
       "      <td>0</td>\n",
       "      <td>1</td>\n",
       "      <td>0</td>\n",
       "      <td>1</td>\n",
       "      <td>0</td>\n",
       "    </tr>\n",
       "    <tr>\n",
       "      <th>1</th>\n",
       "      <td>0.80</td>\n",
       "      <td>0</td>\n",
       "      <td>0</td>\n",
       "      <td>0</td>\n",
       "      <td>0</td>\n",
       "      <td>0</td>\n",
       "      <td>1</td>\n",
       "      <td>0</td>\n",
       "      <td>0</td>\n",
       "      <td>1</td>\n",
       "    </tr>\n",
       "    <tr>\n",
       "      <th>2</th>\n",
       "      <td>0.11</td>\n",
       "      <td>0</td>\n",
       "      <td>0</td>\n",
       "      <td>0</td>\n",
       "      <td>0</td>\n",
       "      <td>0</td>\n",
       "      <td>1</td>\n",
       "      <td>0</td>\n",
       "      <td>0</td>\n",
       "      <td>1</td>\n",
       "    </tr>\n",
       "    <tr>\n",
       "      <th>3</th>\n",
       "      <td>0.72</td>\n",
       "      <td>0</td>\n",
       "      <td>0</td>\n",
       "      <td>0</td>\n",
       "      <td>0</td>\n",
       "      <td>0</td>\n",
       "      <td>1</td>\n",
       "      <td>0</td>\n",
       "      <td>1</td>\n",
       "      <td>0</td>\n",
       "    </tr>\n",
       "    <tr>\n",
       "      <th>4</th>\n",
       "      <td>0.37</td>\n",
       "      <td>0</td>\n",
       "      <td>0</td>\n",
       "      <td>0</td>\n",
       "      <td>0</td>\n",
       "      <td>0</td>\n",
       "      <td>1</td>\n",
       "      <td>0</td>\n",
       "      <td>1</td>\n",
       "      <td>0</td>\n",
       "    </tr>\n",
       "    <tr>\n",
       "      <th>...</th>\n",
       "      <td>...</td>\n",
       "      <td>...</td>\n",
       "      <td>...</td>\n",
       "      <td>...</td>\n",
       "      <td>...</td>\n",
       "      <td>...</td>\n",
       "      <td>...</td>\n",
       "      <td>...</td>\n",
       "      <td>...</td>\n",
       "      <td>...</td>\n",
       "    </tr>\n",
       "    <tr>\n",
       "      <th>14994</th>\n",
       "      <td>0.40</td>\n",
       "      <td>0</td>\n",
       "      <td>0</td>\n",
       "      <td>0</td>\n",
       "      <td>0</td>\n",
       "      <td>0</td>\n",
       "      <td>0</td>\n",
       "      <td>1</td>\n",
       "      <td>1</td>\n",
       "      <td>0</td>\n",
       "    </tr>\n",
       "    <tr>\n",
       "      <th>14995</th>\n",
       "      <td>0.37</td>\n",
       "      <td>0</td>\n",
       "      <td>0</td>\n",
       "      <td>0</td>\n",
       "      <td>0</td>\n",
       "      <td>0</td>\n",
       "      <td>0</td>\n",
       "      <td>1</td>\n",
       "      <td>1</td>\n",
       "      <td>0</td>\n",
       "    </tr>\n",
       "    <tr>\n",
       "      <th>14996</th>\n",
       "      <td>0.37</td>\n",
       "      <td>0</td>\n",
       "      <td>0</td>\n",
       "      <td>0</td>\n",
       "      <td>0</td>\n",
       "      <td>0</td>\n",
       "      <td>0</td>\n",
       "      <td>1</td>\n",
       "      <td>1</td>\n",
       "      <td>0</td>\n",
       "    </tr>\n",
       "    <tr>\n",
       "      <th>14997</th>\n",
       "      <td>0.11</td>\n",
       "      <td>0</td>\n",
       "      <td>0</td>\n",
       "      <td>0</td>\n",
       "      <td>0</td>\n",
       "      <td>0</td>\n",
       "      <td>0</td>\n",
       "      <td>1</td>\n",
       "      <td>1</td>\n",
       "      <td>0</td>\n",
       "    </tr>\n",
       "    <tr>\n",
       "      <th>14998</th>\n",
       "      <td>0.37</td>\n",
       "      <td>0</td>\n",
       "      <td>0</td>\n",
       "      <td>0</td>\n",
       "      <td>0</td>\n",
       "      <td>0</td>\n",
       "      <td>0</td>\n",
       "      <td>1</td>\n",
       "      <td>1</td>\n",
       "      <td>0</td>\n",
       "    </tr>\n",
       "  </tbody>\n",
       "</table>\n",
       "<p>14999 rows × 10 columns</p>\n",
       "</div>"
      ],
      "text/plain": [
       "       satisfaction_level  Work_accident  promotion_last_5years  \\\n",
       "0                    0.38              0                      0   \n",
       "1                    0.80              0                      0   \n",
       "2                    0.11              0                      0   \n",
       "3                    0.72              0                      0   \n",
       "4                    0.37              0                      0   \n",
       "...                   ...            ...                    ...   \n",
       "14994                0.40              0                      0   \n",
       "14995                0.37              0                      0   \n",
       "14996                0.37              0                      0   \n",
       "14997                0.11              0                      0   \n",
       "14998                0.37              0                      0   \n",
       "\n",
       "       department_accounting  department_hr  department_marketing  \\\n",
       "0                          0              0                     0   \n",
       "1                          0              0                     0   \n",
       "2                          0              0                     0   \n",
       "3                          0              0                     0   \n",
       "4                          0              0                     0   \n",
       "...                      ...            ...                   ...   \n",
       "14994                      0              0                     0   \n",
       "14995                      0              0                     0   \n",
       "14996                      0              0                     0   \n",
       "14997                      0              0                     0   \n",
       "14998                      0              0                     0   \n",
       "\n",
       "       department_sales  department_support  salary_low  salary_medium  \n",
       "0                     1                   0           1              0  \n",
       "1                     1                   0           0              1  \n",
       "2                     1                   0           0              1  \n",
       "3                     1                   0           1              0  \n",
       "4                     1                   0           1              0  \n",
       "...                 ...                 ...         ...            ...  \n",
       "14994                 0                   1           1              0  \n",
       "14995                 0                   1           1              0  \n",
       "14996                 0                   1           1              0  \n",
       "14997                 0                   1           1              0  \n",
       "14998                 0                   1           1              0  \n",
       "\n",
       "[14999 rows x 10 columns]"
      ]
     },
     "execution_count": 28,
     "metadata": {},
     "output_type": "execute_result"
    }
   ],
   "source": [
    "X"
   ]
  },
  {
   "cell_type": "code",
   "execution_count": 29,
   "metadata": {},
   "outputs": [
    {
     "data": {
      "text/plain": [
       "Index(['satisfaction_level', 'last_evaluation', 'number_project',\n",
       "       'average_montly_hours', 'time_spend_company', 'Work_accident', 'left',\n",
       "       'promotion_last_5years', 'sales', 'salary'],\n",
       "      dtype='object')"
      ]
     },
     "execution_count": 29,
     "metadata": {},
     "output_type": "execute_result"
    }
   ],
   "source": [
    "dataset.columns"
   ]
  },
  {
   "cell_type": "code",
   "execution_count": 30,
   "metadata": {},
   "outputs": [
    {
     "data": {
      "text/plain": [
       "['satisfaction_level',\n",
       " 'Work_accident',\n",
       " 'promotion_last_5years',\n",
       " 'department_accounting',\n",
       " 'department_hr',\n",
       " 'department_marketing',\n",
       " 'department_sales',\n",
       " 'department_support',\n",
       " 'salary_low',\n",
       " 'salary_medium']"
      ]
     },
     "execution_count": 30,
     "metadata": {},
     "output_type": "execute_result"
    }
   ],
   "source": [
    "cols"
   ]
  },
  {
   "cell_type": "code",
   "execution_count": 31,
   "metadata": {},
   "outputs": [
    {
     "data": {
      "text/plain": [
       "array(['low', 'medium', 'high'], dtype=object)"
      ]
     },
     "execution_count": 31,
     "metadata": {},
     "output_type": "execute_result"
    }
   ],
   "source": [
    "dataset['salary'].unique()"
   ]
  },
  {
   "cell_type": "code",
   "execution_count": 32,
   "metadata": {},
   "outputs": [
    {
     "data": {
      "text/plain": [
       "array(['sales', 'accounting', 'hr', 'technical', 'support', 'management',\n",
       "       'IT', 'product_mng', 'marketing', 'RandD'], dtype=object)"
      ]
     },
     "execution_count": 32,
     "metadata": {},
     "output_type": "execute_result"
    }
   ],
   "source": [
    "dataset['sales'].unique()"
   ]
  },
  {
   "cell_type": "raw",
   "metadata": {},
   "source": [
    "< 15000 #low\n",
    "> 50000 #high"
   ]
  },
  {
   "cell_type": "code",
   "execution_count": 33,
   "metadata": {},
   "outputs": [
    {
     "data": {
      "text/plain": [
       "array([0], dtype=int64)"
      ]
     },
     "execution_count": 33,
     "metadata": {},
     "output_type": "execute_result"
    }
   ],
   "source": [
    "rf.predict(np.array([0.3, 1, 0, 0, 0, 0, 0, 0, 1, 0]).reshape(1, 10))"
   ]
  },
  {
   "cell_type": "code",
   "execution_count": 34,
   "metadata": {},
   "outputs": [],
   "source": [
    "temp = dataset[['satisfaction_level', 'left']]"
   ]
  },
  {
   "cell_type": "code",
   "execution_count": 35,
   "metadata": {},
   "outputs": [],
   "source": [
    "left_1 = list(temp.iloc[np.where(temp['left'] == 1)[0]]['satisfaction_level'])\n",
    "left_0 = list(temp.iloc[np.where(temp['left'] == 0)[0]]['satisfaction_level'])"
   ]
  },
  {
   "cell_type": "code",
   "execution_count": 36,
   "metadata": {},
   "outputs": [
    {
     "name": "stdout",
     "output_type": "stream",
     "text": [
      "0.92 0.09\n"
     ]
    }
   ],
   "source": [
    "print(max(left_1), min(left_1))"
   ]
  },
  {
   "cell_type": "code",
   "execution_count": 37,
   "metadata": {},
   "outputs": [
    {
     "name": "stdout",
     "output_type": "stream",
     "text": [
      "1.0 0.12\n"
     ]
    }
   ],
   "source": [
    "print(max(left_0), min(left_0))"
   ]
  },
  {
   "cell_type": "code",
   "execution_count": 38,
   "metadata": {},
   "outputs": [
    {
     "data": {
      "text/plain": [
       "<matplotlib.collections.PathCollection at 0x25894addf40>"
      ]
     },
     "execution_count": 38,
     "metadata": {},
     "output_type": "execute_result"
    },
    {
     "data": {
      "image/png": "[encoded data removed]",
      "text/plain": [
       "<Figure size 720x1440 with 1 Axes>"
      ]
     },
     "metadata": {
      "needs_background": "light"
     },
     "output_type": "display_data"
    }
   ],
   "source": [
    "from pylab import rcParams\n",
    "rcParams['figure.figsize'] = 10, 20\n",
    "plt.scatter(temp.iloc[np.where(temp['left'] == 1)[0]]['left'], temp.iloc[np.where(temp['left'] == 1)[0]]['satisfaction_level'], marker='o')\n",
    "plt.scatter(temp.iloc[np.where(temp['left'] == 0)[0]]['left'], temp.iloc[np.where(temp['left'] == 0)[0]]['satisfaction_level'], marker='.')"
   ]
  },
  {
   "cell_type": "code",
   "execution_count": 39,
   "metadata": {},
   "outputs": [],
   "source": [
    "import _pickle as cPickle\n",
    "with open('model.pkl', 'wb') as f:\n",
    "    cPickle.dump(rf, f)                                                                                        "
   ]
  },
  {
   "cell_type": "code",
   "execution_count": 40,
   "metadata": {},
   "outputs": [
    {
     "data": {
      "text/plain": [
       "array([0], dtype=int64)"
      ]
     },
     "execution_count": 40,
     "metadata": {},
     "output_type": "execute_result"
    }
   ],
   "source": [
    "with open('model.pkl', 'rb') as f:\n",
    "    rf = cPickle.load(f)\n",
    "\n",
    "rf.predict(np.array([0.3, 1, 0, 0, 0, 0, 0, 0, 1, 0]).reshape(1, 10))"
   ]
  },
  {
   "cell_type": "code",
   "execution_count": 41,
   "metadata": {},
   "outputs": [],
   "source": [
    "import json\n",
    "import _pickle as cPickle\n",
    "import numpy as np\n",
    "\n",
    "with open('model.pkl', 'rb') as f:\n",
    "    rf = cPickle.load(f)\n",
    "\n",
    "with open(\"info.json\") as file:\n",
    "    json_object = json.loads(file.read())\n",
    "\n",
    "cols = ['satisfaction_level', 'Work_accident', 'promotion_last_5years', 'department_accounting', 'department_hr', 'department_marketing', 'department_sales', 'department_support', 'salary_low', 'salary_medium']\n",
    "d = {i:0 for i in cols}\n",
    "for i in json_object:\n",
    "    if i in d:\n",
    "        d[i] = float(json_object[i])\n",
    "    else:\n",
    "        x = str(i)+'_'+str(json_object[i])\n",
    "        if x in d:\n",
    "            d[x] = 1\n",
    "            \n",
    "val = rf.predict(np.array(list(d.values())).reshape(1, 10))[0]"
   ]
  },
  {
   "cell_type": "code",
   "execution_count": null,
   "metadata": {},
   "outputs": [],
   "source": []
  }
 ],
 "metadata": {
  "colab": {
   "collapsed_sections": [],
   "name": "skill lab.ipynb",
   "provenance": []
  },
  "kernelspec": {
   "display_name": "Python 3",
   "language": "python",
   "name": "python3"
  },
  "language_info": {
   "codemirror_mode": {
    "name": "ipython",
    "version": 3
   },
   "file_extension": ".py",
   "mimetype": "text/x-python",
   "name": "python",
   "nbconvert_exporter": "python",
   "pygments_lexer": "ipython3",
   "version": "3.8.5"
  }
 },
 "nbformat": 4,
 "nbformat_minor": 1
}
